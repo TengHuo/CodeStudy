{
 "cells": [
  {
   "cell_type": "code",
   "execution_count": 1,
   "metadata": {},
   "outputs": [],
   "source": [
    "import tensorflow as tf\n",
    "import numpy as np"
   ]
  },
  {
   "cell_type": "code",
   "execution_count": 6,
   "metadata": {},
   "outputs": [
    {
     "name": "stdout",
     "output_type": "stream",
     "text": [
      "0 [0.8424382] [-0.1029812]\n",
      "20 [0.26238215] [0.21872102]\n",
      "40 [0.13492487] [0.28251866]\n",
      "60 [0.10751159] [0.29624015]\n",
      "80 [0.10161558] [0.29919136]\n",
      "100 [0.10034748] [0.2998261]\n",
      "120 [0.10007473] [0.2999626]\n",
      "140 [0.10001606] [0.29999197]\n",
      "160 [0.10000347] [0.29999828]\n",
      "180 [0.10000076] [0.29999962]\n",
      "200 [0.10000017] [0.29999992]\n"
     ]
    }
   ],
   "source": [
    "# Lesson 1\n",
    "\n",
    "x_data = np.random.rand(100).astype(np.float32)\n",
    "y_data = x_data * 0.1 + 0.3\n",
    "\n",
    "Weights = tf.Variable(tf.random_uniform([1]))\n",
    "biases = tf.Variable(tf.zeros([1]))\n",
    "\n",
    "y = Weights * x_data + biases\n",
    "\n",
    "loss = tf.reduce_mean(tf.square(y-y_data))\n",
    "optimizer = tf.train.GradientDescentOptimizer(0.5)\n",
    "train = optimizer.minimize(loss)\n",
    "\n",
    "init = tf.global_variables_initializer()\n",
    "\n",
    "sess = tf.Session()\n",
    "sess.run(init)\n",
    "\n",
    "for step in range(201):\n",
    "    sess.run(train)\n",
    "    if step % 20 == 0:\n",
    "        print(step, sess.run(Weights), sess.run(biases))\n",
    "        \n",
    "sess.close()"
   ]
  },
  {
   "cell_type": "code",
   "execution_count": 8,
   "metadata": {},
   "outputs": [
    {
     "name": "stdout",
     "output_type": "stream",
     "text": [
      "[[9]]\n",
      "[[9]]\n"
     ]
    }
   ],
   "source": [
    "# Lesson 2 How to use sesson\n",
    "\n",
    "matrix1 = tf.constant([[3,3]])\n",
    "matrix2 = tf.constant([[2], [1]])\n",
    "\n",
    "matrix_dot = tf.matmul(matrix1, matrix2)\n",
    "\n",
    "sess = tf.Session()\n",
    "result = sess.run(matrix_dot)\n",
    "print(result)\n",
    "sess.close()\n",
    "\n",
    "with tf.Session() as sess:\n",
    "    result2 = sess.run(matrix_dot)\n",
    "    print(result2)"
   ]
  },
  {
   "cell_type": "code",
   "execution_count": 14,
   "metadata": {},
   "outputs": [
    {
     "name": "stdout",
     "output_type": "stream",
     "text": [
      "before0\n",
      "after:1\n",
      "before1\n",
      "after:2\n",
      "before2\n",
      "after:3\n"
     ]
    }
   ],
   "source": [
    "# Lesson 3 Session.run\n",
    "\n",
    "state = tf.Variable(0, name='counter')\n",
    "one = tf.constant(1)\n",
    "\n",
    "new_value = state + 1\n",
    "update = tf.assign(state, new_value)\n",
    "\n",
    "init = tf.global_variables_initializer()\n",
    "\n",
    "with tf.Session() as sess:\n",
    "    sess.run(init)\n",
    "    for _ in range(3):\n",
    "        print(\"before\" + str(sess.run(state)))\n",
    "        sess.run(update)\n",
    "        print(\"after:\" + str(sess.run(state)))"
   ]
  }
 ],
 "metadata": {
  "kernelspec": {
   "display_name": "Python 3",
   "language": "python",
   "name": "python3"
  },
  "language_info": {
   "codemirror_mode": {
    "name": "ipython",
    "version": 3
   },
   "file_extension": ".py",
   "mimetype": "text/x-python",
   "name": "python",
   "nbconvert_exporter": "python",
   "pygments_lexer": "ipython3",
   "version": "3.6.5"
  }
 },
 "nbformat": 4,
 "nbformat_minor": 2
}
