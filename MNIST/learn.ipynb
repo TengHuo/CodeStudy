{
 "cells": [
  {
   "cell_type": "code",
   "execution_count": 1,
   "metadata": {},
   "outputs": [
    {
     "name": "stdout",
     "output_type": "stream",
     "text": [
      "done\n"
     ]
    }
   ],
   "source": [
    "import tensorflow as tf\n",
    "import numpy as np\n",
    "\n",
    "print('done')"
   ]
  },
  {
   "cell_type": "code",
   "execution_count": 4,
   "metadata": {},
   "outputs": [
    {
     "name": "stdout",
     "output_type": "stream",
     "text": [
      "0 [[-0.56708276  1.080693  ]] [0.39375132]\n",
      "20 [[-0.04358785  0.35153812]] [0.29775488]\n",
      "40 [[0.07138772 0.22773474]] [0.30078673]\n",
      "60 [[0.09416648 0.20496254]] [0.30050734]\n",
      "80 [[0.09877352 0.2008532 ]] [0.300202]\n",
      "100 [[0.09973193 0.20013581]] [0.30006954]\n",
      "120 [[0.0999387 0.2000181]] [0.3000224]\n",
      "140 [[0.09998529 0.20000115]] [0.300007]\n",
      "160 [[0.09999629 0.19999954]] [0.30000213]\n",
      "180 [[0.09999902 0.1999997 ]] [0.30000064]\n",
      "200 [[0.09999971 0.19999988]] [0.3000002]\n"
     ]
    }
   ],
   "source": [
    "# 1.准备数据：使用Numpy生成数据\n",
    "x_data = np.float32(np.random.rand(2, 100))\n",
    "y_data = np.dot([0.100, 0.200], x_data) + 0.300\n",
    "\n",
    "b = tf.Variable(tf.zeros([1]))\n",
    "W = tf.Variable(tf.random_uniform([1, 2], -1.0, 1.0))\n",
    "y = tf.matmul(W, x_data) + b\n",
    "\n",
    "loss = tf.reduce_mean(tf.square(y - y_data))\n",
    "\n",
    "optimizer = tf.train.GradientDescentOptimizer(0.5)\n",
    "\n",
    "train = optimizer.minimize(loss)\n",
    "\n",
    "\n",
    "\n",
    "############################################################\n",
    "# 以下是用 tf 来解决上面的任务\n",
    "# 1.初始化变量：tf 的必备步骤，主要声明了变量，就必须初始化才能用\n",
    "init = tf.global_variables_initializer()\n",
    "\n",
    "\n",
    "# 设置tensorflow对GPU的使用按需分配\n",
    "config  = tf.ConfigProto()\n",
    "config.gpu_options.allow_growth = True\n",
    "# 2.启动图 (graph)\n",
    "sess = tf.Session(config=config)\n",
    "sess.run(init)\n",
    "\n",
    "# 3.迭代，反复执行上面的最小化损失函数这一操作（train op）,拟合平面\n",
    "for step in range(0, 201):\n",
    "    sess.run(train)\n",
    "    if step % 20 == 0:\n",
    "        print(step, sess.run(W), sess.run(b))\n",
    "\n",
    "# 得到最佳拟合结果 W: [[0.100  0.200]], b: [0.300]"
   ]
  }
 ],
 "metadata": {
  "kernelspec": {
   "display_name": "Python 3",
   "language": "python",
   "name": "python3"
  },
  "language_info": {
   "codemirror_mode": {
    "name": "ipython",
    "version": 3
   },
   "file_extension": ".py",
   "mimetype": "text/x-python",
   "name": "python",
   "nbconvert_exporter": "python",
   "pygments_lexer": "ipython3",
   "version": "3.6.5"
  }
 },
 "nbformat": 4,
 "nbformat_minor": 2
}
