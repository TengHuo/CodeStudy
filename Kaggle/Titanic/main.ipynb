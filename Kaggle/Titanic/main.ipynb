{
 "cells": [
  {
   "cell_type": "code",
   "execution_count": 86,
   "metadata": {},
   "outputs": [
    {
     "name": "stdout",
     "output_type": "stream",
     "text": [
      "done\n"
     ]
    }
   ],
   "source": [
    "import pandas as pd\n",
    "from sklearn.ensemble import RandomForestRegressor\n",
    "from sklearn.preprocessing import StandardScaler\n",
    "\n",
    "\n",
    "def train_set_missing_ages_model(df):\n",
    "    age_df = df[['Age', 'Fare', 'Parch', 'SibSp', 'Pclass']]\n",
    "\n",
    "    known_age = age_df[age_df.Age.notnull()].values\n",
    "    y = known_age[:, 0]\n",
    "    X = known_age[:, 1:]\n",
    "\n",
    "    set_age_regressor = RandomForestRegressor(random_state=0, n_estimators=2000, n_jobs=1)\n",
    "    set_age_regressor.fit(X, y)\n",
    "    return set_age_regressor\n",
    "\n",
    "\n",
    "def set_missing_ages(df, regressor):\n",
    "    age_df = df[['Age', 'Fare', 'Parch', 'SibSp', 'Pclass']]\n",
    "\n",
    "    unknown_age = age_df[age_df.Age.isnull()].values\n",
    "    pred = regressor.predict(unknown_age[:, 1::])\n",
    "    df.loc[(df.Age.isnull()), 'Age'] = pred\n",
    "\n",
    "\n",
    "def set_cabin_type(df):\n",
    "    df.loc[df.Cabin.notnull(), 'Cabin'] = 'YES'\n",
    "    df.loc[df.Cabin.isnull(), 'Cabin'] = 'NO'\n",
    "\n",
    "\n",
    "def fit_age_fare_scaler(df):\n",
    "    scaler = StandardScaler()\n",
    "    scaler.fit(df[['Age', 'Fare']])\n",
    "    return scaler\n",
    "\n",
    "\n",
    "def scale_features(df, scaler):\n",
    "    scaled_values = scaler.transform(df[['Age', 'Fare']])\n",
    "    df['Age_scaled'] = scaled_values[:, 0]\n",
    "    df['Fare_scaled'] = scaled_values[:, 1]\n",
    "    return scaler\n",
    "\n",
    "\n",
    "def dummy_features(df):\n",
    "    dummies_cabin = pd.get_dummies(data_train['Cabin'], prefix='Cabin')\n",
    "    dummies_embarked = pd.get_dummies(data_train['Embarked'], prefix='Embarked')\n",
    "    dummies_sex = pd.get_dummies(data_train['Sex'], prefix='Sex')\n",
    "    dummies_pclass = pd.get_dummies(data_train['Pclass'], prefix='Pclass')\n",
    "\n",
    "    df = pd.concat([data_train, dummies_cabin, dummies_embarked, dummies_sex, dummies_pclass], axis=1)\n",
    "    df.drop(['Pclass', 'Name', 'Sex', 'Ticket', 'Cabin', 'Embarked'], axis=1, inplace=True)\n",
    "\n",
    "\n",
    "print('done')"
   ]
  },
  {
   "cell_type": "code",
   "execution_count": 99,
   "metadata": {},
   "outputs": [
    {
     "name": "stdout",
     "output_type": "stream",
     "text": [
      "done\n"
     ]
    }
   ],
   "source": [
    "data_train = pd.read_csv('./input/train.csv')\n",
    "data_test = pd.read_csv('./input/test.csv')\n",
    "\n",
    "\n",
    "set_ages_regressor = train_set_missing_ages_model(data_train)\n",
    "set_missing_ages(data_train, set_ages_regressor)\n",
    "set_missing_ages(data_test, set_ages_regressor)\n",
    "\n",
    "set_cabin_type(data_train)\n",
    "set_cabin_type(data_test)\n",
    "\n",
    "\n",
    "scaler = fit_age_fare_scaler(data_train)\n",
    "scale_features(data_train, scaler)\n",
    "scale_features(data_test, scaler)\n",
    "\n",
    "\n",
    "dummy_features(data_train)\n",
    "dummy_features(data_test)\n",
    "print('done')"
   ]
  },
  {
   "cell_type": "code",
   "execution_count": 108,
   "metadata": {},
   "outputs": [
    {
     "name": "stdout",
     "output_type": "stream",
     "text": [
      "   Survived  SibSp  Parch  Age_scaled  Fare_scaled\n",
      "0         0      1      0   -0.561380    -0.502445\n",
      "1         1      1      0    0.613171     0.786845\n",
      "2         1      0      0   -0.267742    -0.488854\n",
      "3         1      1      0    0.392942     0.420730\n",
      "4         0      0      0    0.392942    -0.486337\n",
      "(891, 4)\n",
      "   SibSp  Parch  Age_scaled  Fare_scaled\n",
      "0      0      0    0.356238    -0.490783\n",
      "1      1      0    1.273856    -0.507479\n",
      "2      0      0    2.374997    -0.453367\n",
      "3      0      0   -0.194333    -0.474005\n",
      "4      1      1   -0.561380    -0.401017\n",
      "(418, 4)\n",
      "(418, 4)\n",
      "418\n",
      "418\n"
     ]
    }
   ],
   "source": [
    "from sklearn import linear_model\n",
    "from sklearn.metrics import accuracy_score\n",
    "import numpy as np\n",
    "\n",
    "train_df = data_train.filter(regex='Survived|Age_.*|SibSp|Parch|Fare_.*|Cabin_.*|Embarked_.*|Sex_.*|Pclass_.*')\n",
    "train_np = train_df.values\n",
    "labels_train = train_np[:, 0]\n",
    "features_train = train_np[:, 1:]\n",
    "\n",
    "test_df = data_test.filter(regex='Survived|Age_.*|SibSp|Parch|Fare_.*|Cabin_.*|Embarked_.*|Sex_.*|Pclass_.*')\n",
    "features_test = test_df.values\n",
    "\n",
    "regression = linear_model.LogisticRegression(C=1.0, penalty='l1', tol=1e-6)\n",
    "regression.fit(features_train, labels_train)\n",
    "pred = regression.predict(features_test)\n"
   ]
  },
  {
   "cell_type": "code",
   "execution_count": null,
   "metadata": {},
   "outputs": [],
   "source": [
    "result = pd.DataFrame({'PassengerId': data_test.PassengerId.values, 'Survived': pred.astype(np.int32)})\n",
    "result.to_csv('./submission.csv', index=False)"
   ]
  }
 ],
 "metadata": {
  "kernelspec": {
   "display_name": "Python 3",
   "language": "python",
   "name": "python3"
  },
  "language_info": {
   "codemirror_mode": {
    "name": "ipython",
    "version": 3
   },
   "file_extension": ".py",
   "mimetype": "text/x-python",
   "name": "python",
   "nbconvert_exporter": "python",
   "pygments_lexer": "ipython3",
   "version": "3.6.5"
  }
 },
 "nbformat": 4,
 "nbformat_minor": 2
}
