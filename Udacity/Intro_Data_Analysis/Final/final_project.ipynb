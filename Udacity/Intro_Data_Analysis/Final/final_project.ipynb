{
 "cells": [
  {
   "cell_type": "markdown",
   "metadata": {},
   "source": [
    "### Introduction\n",
    "\n",
    "For the final project, you will conduct your own data analysis and create a file to share that documents your findings. You should start by taking a look at your dataset and brainstorming what questions you could answer using it. Then you should use Pandas and NumPy to answer the questions you are most interested in, and create a report sharing the answers. You will not be required to use statistics or machine learning to complete this project, but you should make it clear in your communications that your findings are tentative. This project is open-ended in that we are not looking for one right answer.\n",
    "\n",
    "### Step One - Choose Your Data Set\n",
    "\n",
    "Choose one of the following datasets to analyze for your project:\n",
    "\n",
    "* Titanic Data - Contains demographics and passenger information from 891 of the 2224 passengers and crew on board the Titanic. You can view a description of this dataset on [the Kaggle website](https://www.kaggle.com/c/titanic/data), where the data was obtained.\n",
    "* Baseball Data - A data set containing complete batting and pitching statistics from 1871 to 2014, plus fielding statistics, standings, team stats, managerial records, post-season data, and more. This dataset contains many files, but you can choose to analyze only the one(s) you are most interested in.\n",
    "\n",
    "Choose the comma-delimited version, which contains CSV files.\n",
    "\n",
    "### Step Two - Get Organized\n",
    "\n",
    "Eventually you’ll want to share your project with friends, family, and employers. Get organized before you begin. We recommend creating a single folder that will eventually contain:\n",
    "\n",
    "* The report communicating your findings\n",
    "* Any Python code you wrote as part of your analysis\n",
    "* The data set you used (which you will not need to submit)\n",
    "\n",
    "You may wish to use IPython notebook, in which case you can share both the code you wrote and the report of your findings in the same document. Otherwise, you will need to store your report and code separately.\n",
    "\n",
    "### Step Three - Analyze Your Data\n",
    "\n",
    "Brainstorm some questions you could answer using the data set you chose, then start answering those questions. Here are some ideas to get you started:\n",
    "\n",
    "* Titanic Data\n",
    " * What factors made people more likely to survive?\n",
    "* Baseball Data\n",
    " * What is the relationship between different performance metrics? Do any have a strong negative or positive relationship?\n",
    " * What are the characteristics of baseball players with the highest salaries?\n",
    "\n",
    "Make sure you use NumPy and Pandas where they are appropriate!\n",
    "\n",
    "### Step Four - Share Your Findings\n",
    "\n",
    "Once you have finished analyzing the data, create a report that shares the findings you found most interesting. You might wish to use IPython notebook to share your findings alongside the code you used to perform the analysis, but you can also use another tool if you wish.\n",
    "\n",
    "### Step Five - Review\n",
    "\n",
    "Use the Project Rubric to review your project. If you are happy with your project, then you're finished! If you see room for improvement, keep working to improve your project."
   ]
  }
 ],
 "metadata": {
  "kernelspec": {
   "display_name": "Python 3",
   "language": "python",
   "name": "python3"
  },
  "language_info": {
   "codemirror_mode": {
    "name": "ipython",
    "version": 3
   },
   "file_extension": ".py",
   "mimetype": "text/x-python",
   "name": "python",
   "nbconvert_exporter": "python",
   "pygments_lexer": "ipython3",
   "version": "3.5.4"
  }
 },
 "nbformat": 4,
 "nbformat_minor": 2
}
